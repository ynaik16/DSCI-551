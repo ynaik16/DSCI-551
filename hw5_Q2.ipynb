{
  "nbformat": 4,
  "nbformat_minor": 0,
  "metadata": {
    "colab": {
      "name": "Untitled0.ipynb",
      "provenance": [],
      "mount_file_id": "17JkFyzVAHkLweHnDNgqe1ae9aIUiUm6f",
      "authorship_tag": "ABX9TyNyoJiS10mRGd6WBhdMRIGh",
      "include_colab_link": true
    },
    "kernelspec": {
      "name": "python3",
      "display_name": "Python 3"
    },
    "language_info": {
      "name": "python"
    }
  },
  "cells": [
    {
      "cell_type": "markdown",
      "metadata": {
        "id": "view-in-github",
        "colab_type": "text"
      },
      "source": [
        "<a href=\"https://colab.research.google.com/github/ynaik16/DSCI-551/blob/main/hw5_Q2.ipynb\" target=\"_parent\"><img src=\"https://colab.research.google.com/assets/colab-badge.svg\" alt=\"Open In Colab\"/></a>"
      ]
    },
    {
      "cell_type": "code",
      "metadata": {
        "colab": {
          "base_uri": "https://localhost:8080/",
          "height": 0
        },
        "id": "K8U4c-vDgslx",
        "outputId": "d1591365-c517-4f8c-b8c7-e0c775aa9d7b"
      },
      "source": [
        "!apt-get install openjdk-8-jdk"
      ],
      "execution_count": 1,
      "outputs": [
        {
          "output_type": "stream",
          "text": [
            "Reading package lists... Done\n",
            "Building dependency tree       \n",
            "Reading state information... Done\n",
            "The following package was automatically installed and is no longer required:\n",
            "  libnvidia-common-460\n",
            "Use 'apt autoremove' to remove it.\n",
            "The following additional packages will be installed:\n",
            "  fonts-dejavu-core fonts-dejavu-extra libatk-wrapper-java\n",
            "  libatk-wrapper-java-jni libgail-common libgail18 libgtk2.0-0 libgtk2.0-bin\n",
            "  libgtk2.0-common libxxf86dga1 openjdk-8-jdk-headless openjdk-8-jre\n",
            "  openjdk-8-jre-headless x11-utils\n",
            "Suggested packages:\n",
            "  gvfs openjdk-8-demo openjdk-8-source visualvm icedtea-8-plugin libnss-mdns\n",
            "  fonts-ipafont-gothic fonts-ipafont-mincho fonts-wqy-microhei\n",
            "  fonts-wqy-zenhei fonts-indic mesa-utils\n",
            "The following NEW packages will be installed:\n",
            "  fonts-dejavu-core fonts-dejavu-extra libatk-wrapper-java\n",
            "  libatk-wrapper-java-jni libgail-common libgail18 libgtk2.0-0 libgtk2.0-bin\n",
            "  libgtk2.0-common libxxf86dga1 openjdk-8-jdk openjdk-8-jdk-headless\n",
            "  openjdk-8-jre openjdk-8-jre-headless x11-utils\n",
            "0 upgraded, 15 newly installed, 0 to remove and 34 not upgraded.\n",
            "Need to get 43.5 MB of archives.\n",
            "After this operation, 163 MB of additional disk space will be used.\n",
            "Get:1 http://archive.ubuntu.com/ubuntu bionic/main amd64 libxxf86dga1 amd64 2:1.1.4-1 [13.7 kB]\n",
            "Get:2 http://archive.ubuntu.com/ubuntu bionic/main amd64 fonts-dejavu-core all 2.37-1 [1,041 kB]\n",
            "Get:3 http://archive.ubuntu.com/ubuntu bionic/main amd64 fonts-dejavu-extra all 2.37-1 [1,953 kB]\n",
            "Get:4 http://archive.ubuntu.com/ubuntu bionic/main amd64 x11-utils amd64 7.7+3build1 [196 kB]\n",
            "Get:5 http://archive.ubuntu.com/ubuntu bionic/main amd64 libatk-wrapper-java all 0.33.3-20ubuntu0.1 [34.7 kB]\n",
            "Get:6 http://archive.ubuntu.com/ubuntu bionic/main amd64 libatk-wrapper-java-jni amd64 0.33.3-20ubuntu0.1 [28.3 kB]\n",
            "Get:7 http://archive.ubuntu.com/ubuntu bionic/main amd64 libgtk2.0-common all 2.24.32-1ubuntu1 [125 kB]\n",
            "Get:8 http://archive.ubuntu.com/ubuntu bionic/main amd64 libgtk2.0-0 amd64 2.24.32-1ubuntu1 [1,769 kB]\n",
            "Get:9 http://archive.ubuntu.com/ubuntu bionic/main amd64 libgail18 amd64 2.24.32-1ubuntu1 [14.2 kB]\n",
            "Get:10 http://archive.ubuntu.com/ubuntu bionic/main amd64 libgail-common amd64 2.24.32-1ubuntu1 [112 kB]\n",
            "Get:11 http://archive.ubuntu.com/ubuntu bionic/main amd64 libgtk2.0-bin amd64 2.24.32-1ubuntu1 [7,536 B]\n",
            "Get:12 http://archive.ubuntu.com/ubuntu bionic-updates/universe amd64 openjdk-8-jre-headless amd64 8u282-b08-0ubuntu1~18.04 [28.2 MB]\n",
            "Get:13 http://archive.ubuntu.com/ubuntu bionic-updates/universe amd64 openjdk-8-jre amd64 8u282-b08-0ubuntu1~18.04 [69.7 kB]\n",
            "Get:14 http://archive.ubuntu.com/ubuntu bionic-updates/universe amd64 openjdk-8-jdk-headless amd64 8u282-b08-0ubuntu1~18.04 [8,267 kB]\n",
            "Get:15 http://archive.ubuntu.com/ubuntu bionic-updates/universe amd64 openjdk-8-jdk amd64 8u282-b08-0ubuntu1~18.04 [1,630 kB]\n",
            "Fetched 43.5 MB in 1s (62.5 MB/s)\n",
            "Selecting previously unselected package libxxf86dga1:amd64.\n",
            "(Reading database ... 160690 files and directories currently installed.)\n",
            "Preparing to unpack .../00-libxxf86dga1_2%3a1.1.4-1_amd64.deb ...\n",
            "Unpacking libxxf86dga1:amd64 (2:1.1.4-1) ...\n",
            "Selecting previously unselected package fonts-dejavu-core.\n",
            "Preparing to unpack .../01-fonts-dejavu-core_2.37-1_all.deb ...\n",
            "Unpacking fonts-dejavu-core (2.37-1) ...\n",
            "Selecting previously unselected package fonts-dejavu-extra.\n",
            "Preparing to unpack .../02-fonts-dejavu-extra_2.37-1_all.deb ...\n",
            "Unpacking fonts-dejavu-extra (2.37-1) ...\n",
            "Selecting previously unselected package x11-utils.\n",
            "Preparing to unpack .../03-x11-utils_7.7+3build1_amd64.deb ...\n",
            "Unpacking x11-utils (7.7+3build1) ...\n",
            "Selecting previously unselected package libatk-wrapper-java.\n",
            "Preparing to unpack .../04-libatk-wrapper-java_0.33.3-20ubuntu0.1_all.deb ...\n",
            "Unpacking libatk-wrapper-java (0.33.3-20ubuntu0.1) ...\n",
            "Selecting previously unselected package libatk-wrapper-java-jni:amd64.\n",
            "Preparing to unpack .../05-libatk-wrapper-java-jni_0.33.3-20ubuntu0.1_amd64.deb ...\n",
            "Unpacking libatk-wrapper-java-jni:amd64 (0.33.3-20ubuntu0.1) ...\n",
            "Selecting previously unselected package libgtk2.0-common.\n",
            "Preparing to unpack .../06-libgtk2.0-common_2.24.32-1ubuntu1_all.deb ...\n",
            "Unpacking libgtk2.0-common (2.24.32-1ubuntu1) ...\n",
            "Selecting previously unselected package libgtk2.0-0:amd64.\n",
            "Preparing to unpack .../07-libgtk2.0-0_2.24.32-1ubuntu1_amd64.deb ...\n",
            "Unpacking libgtk2.0-0:amd64 (2.24.32-1ubuntu1) ...\n",
            "Selecting previously unselected package libgail18:amd64.\n",
            "Preparing to unpack .../08-libgail18_2.24.32-1ubuntu1_amd64.deb ...\n",
            "Unpacking libgail18:amd64 (2.24.32-1ubuntu1) ...\n",
            "Selecting previously unselected package libgail-common:amd64.\n",
            "Preparing to unpack .../09-libgail-common_2.24.32-1ubuntu1_amd64.deb ...\n",
            "Unpacking libgail-common:amd64 (2.24.32-1ubuntu1) ...\n",
            "Selecting previously unselected package libgtk2.0-bin.\n",
            "Preparing to unpack .../10-libgtk2.0-bin_2.24.32-1ubuntu1_amd64.deb ...\n",
            "Unpacking libgtk2.0-bin (2.24.32-1ubuntu1) ...\n",
            "Selecting previously unselected package openjdk-8-jre-headless:amd64.\n",
            "Preparing to unpack .../11-openjdk-8-jre-headless_8u282-b08-0ubuntu1~18.04_amd64.deb ...\n",
            "Unpacking openjdk-8-jre-headless:amd64 (8u282-b08-0ubuntu1~18.04) ...\n",
            "Selecting previously unselected package openjdk-8-jre:amd64.\n",
            "Preparing to unpack .../12-openjdk-8-jre_8u282-b08-0ubuntu1~18.04_amd64.deb ...\n",
            "Unpacking openjdk-8-jre:amd64 (8u282-b08-0ubuntu1~18.04) ...\n",
            "Selecting previously unselected package openjdk-8-jdk-headless:amd64.\n",
            "Preparing to unpack .../13-openjdk-8-jdk-headless_8u282-b08-0ubuntu1~18.04_amd64.deb ...\n",
            "Unpacking openjdk-8-jdk-headless:amd64 (8u282-b08-0ubuntu1~18.04) ...\n",
            "Selecting previously unselected package openjdk-8-jdk:amd64.\n",
            "Preparing to unpack .../14-openjdk-8-jdk_8u282-b08-0ubuntu1~18.04_amd64.deb ...\n",
            "Unpacking openjdk-8-jdk:amd64 (8u282-b08-0ubuntu1~18.04) ...\n",
            "Setting up libgtk2.0-common (2.24.32-1ubuntu1) ...\n",
            "Setting up fonts-dejavu-core (2.37-1) ...\n",
            "Setting up libxxf86dga1:amd64 (2:1.1.4-1) ...\n",
            "Setting up fonts-dejavu-extra (2.37-1) ...\n",
            "Setting up openjdk-8-jre-headless:amd64 (8u282-b08-0ubuntu1~18.04) ...\n",
            "update-alternatives: using /usr/lib/jvm/java-8-openjdk-amd64/jre/bin/orbd to provide /usr/bin/orbd (orbd) in auto mode\n",
            "update-alternatives: using /usr/lib/jvm/java-8-openjdk-amd64/jre/bin/servertool to provide /usr/bin/servertool (servertool) in auto mode\n",
            "update-alternatives: using /usr/lib/jvm/java-8-openjdk-amd64/jre/bin/tnameserv to provide /usr/bin/tnameserv (tnameserv) in auto mode\n",
            "Setting up libgtk2.0-0:amd64 (2.24.32-1ubuntu1) ...\n",
            "Setting up libgail18:amd64 (2.24.32-1ubuntu1) ...\n",
            "Setting up openjdk-8-jdk-headless:amd64 (8u282-b08-0ubuntu1~18.04) ...\n",
            "update-alternatives: using /usr/lib/jvm/java-8-openjdk-amd64/bin/idlj to provide /usr/bin/idlj (idlj) in auto mode\n",
            "update-alternatives: using /usr/lib/jvm/java-8-openjdk-amd64/bin/wsimport to provide /usr/bin/wsimport (wsimport) in auto mode\n",
            "update-alternatives: using /usr/lib/jvm/java-8-openjdk-amd64/bin/jsadebugd to provide /usr/bin/jsadebugd (jsadebugd) in auto mode\n",
            "update-alternatives: using /usr/lib/jvm/java-8-openjdk-amd64/bin/native2ascii to provide /usr/bin/native2ascii (native2ascii) in auto mode\n",
            "update-alternatives: using /usr/lib/jvm/java-8-openjdk-amd64/bin/javah to provide /usr/bin/javah (javah) in auto mode\n",
            "update-alternatives: using /usr/lib/jvm/java-8-openjdk-amd64/bin/hsdb to provide /usr/bin/hsdb (hsdb) in auto mode\n",
            "update-alternatives: using /usr/lib/jvm/java-8-openjdk-amd64/bin/clhsdb to provide /usr/bin/clhsdb (clhsdb) in auto mode\n",
            "update-alternatives: using /usr/lib/jvm/java-8-openjdk-amd64/bin/xjc to provide /usr/bin/xjc (xjc) in auto mode\n",
            "update-alternatives: using /usr/lib/jvm/java-8-openjdk-amd64/bin/schemagen to provide /usr/bin/schemagen (schemagen) in auto mode\n",
            "update-alternatives: using /usr/lib/jvm/java-8-openjdk-amd64/bin/extcheck to provide /usr/bin/extcheck (extcheck) in auto mode\n",
            "update-alternatives: using /usr/lib/jvm/java-8-openjdk-amd64/bin/jhat to provide /usr/bin/jhat (jhat) in auto mode\n",
            "update-alternatives: using /usr/lib/jvm/java-8-openjdk-amd64/bin/wsgen to provide /usr/bin/wsgen (wsgen) in auto mode\n",
            "Setting up x11-utils (7.7+3build1) ...\n",
            "Setting up libgail-common:amd64 (2.24.32-1ubuntu1) ...\n",
            "Setting up libatk-wrapper-java (0.33.3-20ubuntu0.1) ...\n",
            "Setting up libgtk2.0-bin (2.24.32-1ubuntu1) ...\n",
            "Setting up libatk-wrapper-java-jni:amd64 (0.33.3-20ubuntu0.1) ...\n",
            "Setting up openjdk-8-jre:amd64 (8u282-b08-0ubuntu1~18.04) ...\n",
            "update-alternatives: using /usr/lib/jvm/java-8-openjdk-amd64/jre/bin/policytool to provide /usr/bin/policytool (policytool) in auto mode\n",
            "Setting up openjdk-8-jdk:amd64 (8u282-b08-0ubuntu1~18.04) ...\n",
            "update-alternatives: using /usr/lib/jvm/java-8-openjdk-amd64/bin/appletviewer to provide /usr/bin/appletviewer (appletviewer) in auto mode\n",
            "update-alternatives: using /usr/lib/jvm/java-8-openjdk-amd64/bin/jconsole to provide /usr/bin/jconsole (jconsole) in auto mode\n",
            "Processing triggers for man-db (2.8.3-2ubuntu0.1) ...\n",
            "Processing triggers for hicolor-icon-theme (0.17-2) ...\n",
            "Processing triggers for fontconfig (2.12.6-0ubuntu2) ...\n",
            "Processing triggers for mime-support (3.60ubuntu1) ...\n",
            "Processing triggers for libc-bin (2.27-3ubuntu1.2) ...\n",
            "/sbin/ldconfig.real: /usr/local/lib/python3.7/dist-packages/ideep4py/lib/libmkldnn.so.0 is not a symbolic link\n",
            "\n"
          ],
          "name": "stdout"
        }
      ]
    },
    {
      "cell_type": "code",
      "metadata": {
        "id": "xwnxfqCnguQC"
      },
      "source": [
        "!wget -q https://apachemirror.wuchna.com/spark/spark-3.1.1/spark-3.1.1-bin-hadoop2.7.tgz"
      ],
      "execution_count": 2,
      "outputs": []
    },
    {
      "cell_type": "code",
      "metadata": {
        "id": "ujtORn2DguLe"
      },
      "source": [
        "!tar xf spark-3.1.1-bin-hadoop2.7.tgz"
      ],
      "execution_count": 3,
      "outputs": []
    },
    {
      "cell_type": "code",
      "metadata": {
        "id": "WvD9ByfBguFv"
      },
      "source": [
        "!pip install -q findspark"
      ],
      "execution_count": 4,
      "outputs": []
    },
    {
      "cell_type": "code",
      "metadata": {
        "id": "KsplcbvSgt_R"
      },
      "source": [
        "import os\n",
        "os.environ[\"JAVA_HOME\"] = \"/usr/lib/jvm/java-8-openjdk-amd64\"\n",
        "os.environ[\"SPARK_HOME\"] = \"/content/spark-3.1.1-bin-hadoop2.7\""
      ],
      "execution_count": 5,
      "outputs": []
    },
    {
      "cell_type": "code",
      "metadata": {
        "id": "F1Zakbnngt3m"
      },
      "source": [
        "import findspark\n",
        "findspark.init()\n"
      ],
      "execution_count": 6,
      "outputs": []
    },
    {
      "cell_type": "code",
      "metadata": {
        "id": "6d5bXhvGhnUa"
      },
      "source": [
        "from pyspark.sql import SparkSession\n",
        "\n",
        "spark = SparkSession \\\n",
        "    .builder \\\n",
        "    .appName(\"HW5\") \\\n",
        "    .getOrCreate()"
      ],
      "execution_count": 7,
      "outputs": []
    },
    {
      "cell_type": "code",
      "metadata": {
        "id": "Wzon7Xg8hAoH"
      },
      "source": [
        "from pyspark import SparkContext"
      ],
      "execution_count": 8,
      "outputs": []
    },
    {
      "cell_type": "code",
      "metadata": {
        "id": "SLrBuMzOj6RU"
      },
      "source": [
        "city_file = \"/content/drive/MyDrive/Colab Notebooks/DS551/city.json\"\n",
        "country_file = \"/content/drive/MyDrive/Colab Notebooks/DS551/country.json\"\n",
        "language_file = \"/content/drive/MyDrive/Colab Notebooks/DS551/countrylanguage.json\""
      ],
      "execution_count": 9,
      "outputs": []
    },
    {
      "cell_type": "code",
      "metadata": {
        "id": "aIVS-znShAlv"
      },
      "source": [
        "sc = spark.sparkContext"
      ],
      "execution_count": 10,
      "outputs": []
    },
    {
      "cell_type": "code",
      "metadata": {
        "id": "NIoNZ0oRhAjN"
      },
      "source": [
        "country_df = spark.read.json(country_file)"
      ],
      "execution_count": 11,
      "outputs": []
    },
    {
      "cell_type": "code",
      "metadata": {
        "colab": {
          "base_uri": "https://localhost:8080/",
          "height": 0
        },
        "id": "7xQ_nWSehAgs",
        "outputId": "0a2351cd-7ccf-43fd-b4be-6cdf99575f7c"
      },
      "source": [
        "country_df.show()"
      ],
      "execution_count": 12,
      "outputs": [
        {
          "output_type": "stream",
          "text": [
            "+-------+----+-----+-------------+--------+--------+--------------------+--------------------+---------+--------------+--------------------+--------------------+----------+--------------------+-----------+\n",
            "|Capital|Code|Code2|    Continent|     GNP|  GNPOld|      GovernmentForm|         HeadOfState|IndepYear|LifeExpectancy|           LocalName|                Name|Population|              Region|SurfaceArea|\n",
            "+-------+----+-----+-------------+--------+--------+--------------------+--------------------+---------+--------------+--------------------+--------------------+----------+--------------------+-----------+\n",
            "|    129| ABW|   AW|North America|   828.0|   793.0|Nonmetropolitan T...|             Beatrix|        0|          78.4|               Aruba|               Aruba|    103000|           Caribbean|      193.0|\n",
            "|      1| AFG|   AF|         Asia|  5976.0|     0.0|     Islamic Emirate|       Mohammad Omar|     1919|          45.9|Afganistan/Afqane...|         Afghanistan|  22720000|Southern and Cent...|   652090.0|\n",
            "|     56| AGO|   AO|       Africa|  6648.0|  7984.0|            Republic|JosÃ© Eduardo dos...|     1975|          38.3|              Angola|              Angola|  12878000|      Central Africa|  1246700.0|\n",
            "|     62| AIA|   AI|North America|    63.2|     0.0|Dependent Territo...|        Elisabeth II|        0|          76.1|            Anguilla|            Anguilla|      8000|           Caribbean|       96.0|\n",
            "|     34| ALB|   AL|       Europe|  3205.0|  2500.0|            Republic|      Rexhep Mejdani|     1912|          71.6|          ShqipÃ«ria|             Albania|   3401200|     Southern Europe|    28748.0|\n",
            "|     55| AND|   AD|       Europe|  1630.0|     0.0|Parliamentary Cop...|                    |     1278|          83.5|             Andorra|             Andorra|     78000|     Southern Europe|      468.0|\n",
            "|     33| ANT|   AN|North America|  1941.0|     0.0|Nonmetropolitan T...|             Beatrix|        0|          74.7|Nederlandse Antillen|Netherlands Antilles|    217000|           Caribbean|      800.0|\n",
            "|     65| ARE|   AE|         Asia| 37966.0| 36846.0|  Emirate Federation|Zayid bin Sultan ...|     1971|          74.1|Al-Imarat al-Â´Ar...|United Arab Emirates|   2441000|         Middle East|    83600.0|\n",
            "|     69| ARG|   AR|South America|340238.0|323310.0|    Federal Republic| Fernando de la RÃºa|     1816|          75.1|           Argentina|           Argentina|  37032000|       South America|  2780400.0|\n",
            "|    126| ARM|   AM|         Asia|  1813.0|  1627.0|            Republic|   Robert KotÂšarjan|     1991|          66.4|            Hajastan|             Armenia|   3520000|         Middle East|    29800.0|\n",
            "|     54| ASM|   AS|      Oceania|   334.0|     0.0|        US Territory|      George W. Bush|        0|          75.1|       Amerika Samoa|      American Samoa|     68000|           Polynesia|      199.0|\n",
            "|      0| ATA|   AQ|   Antarctica|     0.0|     0.0|    Co-administrated|                    |        0|           0.0|                  Â–|          Antarctica|         0|          Antarctica|    1.312E7|\n",
            "|      0| ATF|   TF|   Antarctica|     0.0|     0.0|Nonmetropolitan T...|      Jacques Chirac|        0|           0.0|Terres australes ...|French Southern t...|         0|          Antarctica|     7780.0|\n",
            "|     63| ATG|   AG|North America|   612.0|   584.0|Constitutional Mo...|        Elisabeth II|     1981|          70.5| Antigua and Barbuda| Antigua and Barbuda|     68000|           Caribbean|      442.0|\n",
            "|    135| AUS|   AU|      Oceania|351182.0|392911.0|Constitutional Mo...|        Elisabeth II|     1901|          79.8|           Australia|           Australia|  18886000|Australia and New...|  7741220.0|\n",
            "|   1523| AUT|   AT|       Europe|211860.0|206025.0|    Federal Republic|      Thomas Klestil|     1918|          77.7|         Ã–sterreich|             Austria|   8091800|      Western Europe|    83859.0|\n",
            "|    144| AZE|   AZ|         Asia|  4127.0|  4100.0|    Federal Republic|     HeydÃ¤r Ã„liyev|     1991|          62.9|         AzÃ¤rbaycan|          Azerbaijan|   7734000|         Middle East|    86600.0|\n",
            "|    552| BDI|   BI|       Africa|   903.0|   982.0|            Republic|       Pierre Buyoya|     1962|          46.2|    Burundi/Uburundi|             Burundi|   6695000|      Eastern Africa|    27834.0|\n",
            "|    179| BEL|   BE|       Europe|249704.0|243948.0|Constitutional Mo...|           Albert II|     1830|          77.8|    BelgiÃ«/Belgique|             Belgium|  10239000|      Western Europe|    30518.0|\n",
            "|    187| BEN|   BJ|       Africa|  2357.0|  2141.0|            Republic|   Mathieu KÃ©rÃ©kou|     1960|          50.2|              BÃ©nin|               Benin|   6097000|      Western Africa|   112622.0|\n",
            "+-------+----+-----+-------------+--------+--------+--------------------+--------------------+---------+--------------+--------------------+--------------------+----------+--------------------+-----------+\n",
            "only showing top 20 rows\n",
            "\n"
          ],
          "name": "stdout"
        }
      ]
    },
    {
      "cell_type": "markdown",
      "metadata": {
        "id": "Bjb9XdPInotB"
      },
      "source": [
        "##### query-a"
      ]
    },
    {
      "cell_type": "code",
      "metadata": {
        "id": "uFU7QJZndKR_"
      },
      "source": [
        ""
      ],
      "execution_count": null,
      "outputs": []
    },
    {
      "cell_type": "code",
      "metadata": {
        "colab": {
          "base_uri": "https://localhost:8080/",
          "height": 0
        },
        "id": "5oAlQZYNhAeG",
        "outputId": "419f6c0f-60b6-40c7-cd82-0d83d09fb349"
      },
      "source": [
        "answer = country_df.select(country_df['Name']).where(country_df['Continent']==\"North America\").show()"
      ],
      "execution_count": 13,
      "outputs": [
        {
          "output_type": "stream",
          "text": [
            "+--------------------+\n",
            "|                Name|\n",
            "+--------------------+\n",
            "|               Aruba|\n",
            "|            Anguilla|\n",
            "|Netherlands Antilles|\n",
            "| Antigua and Barbuda|\n",
            "|             Bahamas|\n",
            "|              Belize|\n",
            "|             Bermuda|\n",
            "|            Barbados|\n",
            "|              Canada|\n",
            "|          Costa Rica|\n",
            "|                Cuba|\n",
            "|      Cayman Islands|\n",
            "|            Dominica|\n",
            "|  Dominican Republic|\n",
            "|          Guadeloupe|\n",
            "|             Grenada|\n",
            "|           Greenland|\n",
            "|           Guatemala|\n",
            "|            Honduras|\n",
            "|               Haiti|\n",
            "+--------------------+\n",
            "only showing top 20 rows\n",
            "\n"
          ],
          "name": "stdout"
        }
      ]
    },
    {
      "cell_type": "markdown",
      "metadata": {
        "id": "cybnTvMOns-2"
      },
      "source": [
        "####### query -b"
      ]
    },
    {
      "cell_type": "code",
      "metadata": {
        "id": "l_glNT4Sn_5f"
      },
      "source": [
        "city_df = spark.read.json(city_file)"
      ],
      "execution_count": 14,
      "outputs": []
    },
    {
      "cell_type": "code",
      "metadata": {
        "colab": {
          "base_uri": "https://localhost:8080/",
          "height": 0
        },
        "id": "gGP7fwZinurb",
        "outputId": "d12245c4-a3ef-4be9-ffa0-f85d3d833381"
      },
      "source": [
        "query_b_df = country_df.join(city_df, country_df.Capital == city_df.ID).select(country_df.Name,city_df.Name).show()"
      ],
      "execution_count": 17,
      "outputs": [
        {
          "output_type": "stream",
          "text": [
            "+--------------------+----------------+\n",
            "|                Name|            Name|\n",
            "+--------------------+----------------+\n",
            "|         Afghanistan|           Kabul|\n",
            "|         Netherlands|       Amsterdam|\n",
            "|Netherlands Antilles|      Willemstad|\n",
            "|             Albania|          Tirana|\n",
            "|             Algeria|           Alger|\n",
            "|      American Samoa|        Fagatogo|\n",
            "|             Andorra|Andorra la Vella|\n",
            "|              Angola|          Luanda|\n",
            "|            Anguilla|      The Valley|\n",
            "| Antigua and Barbuda|   Saint JohnÂ´s|\n",
            "|United Arab Emirates|       Abu Dhabi|\n",
            "|           Argentina|    Buenos Aires|\n",
            "|             Armenia|         Yerevan|\n",
            "|               Aruba|      Oranjestad|\n",
            "|           Australia|        Canberra|\n",
            "|          Azerbaijan|            Baku|\n",
            "|             Bahamas|          Nassau|\n",
            "|             Bahrain|       al-Manama|\n",
            "|          Bangladesh|           Dhaka|\n",
            "|            Barbados|      Bridgetown|\n",
            "+--------------------+----------------+\n",
            "only showing top 20 rows\n",
            "\n"
          ],
          "name": "stdout"
        }
      ]
    },
    {
      "cell_type": "code",
      "metadata": {
        "id": "9gI7oZMiqBnO"
      },
      "source": [
        ""
      ],
      "execution_count": null,
      "outputs": []
    },
    {
      "cell_type": "code",
      "metadata": {
        "id": "bzF1UGLQqBhv"
      },
      "source": [
        ""
      ],
      "execution_count": null,
      "outputs": []
    },
    {
      "cell_type": "markdown",
      "metadata": {
        "id": "yeuc3wPKqB_k"
      },
      "source": [
        "########### query c"
      ]
    },
    {
      "cell_type": "code",
      "metadata": {
        "colab": {
          "base_uri": "https://localhost:8080/",
          "height": 0
        },
        "id": "n-2bQlEFqEgu",
        "outputId": "23010709-a669-4326-93a2-bd84795305db"
      },
      "source": [
        "answer_c = country_df.select(country_df['Continent']).distinct().show()"
      ],
      "execution_count": 18,
      "outputs": [
        {
          "output_type": "stream",
          "text": [
            "+-------------+\n",
            "|    Continent|\n",
            "+-------------+\n",
            "|       Europe|\n",
            "|       Africa|\n",
            "|North America|\n",
            "|   Antarctica|\n",
            "|South America|\n",
            "|      Oceania|\n",
            "|         Asia|\n",
            "+-------------+\n",
            "\n"
          ],
          "name": "stdout"
        }
      ]
    },
    {
      "cell_type": "code",
      "metadata": {
        "id": "yhYzfPy2qSZ9"
      },
      "source": [
        ""
      ],
      "execution_count": null,
      "outputs": []
    },
    {
      "cell_type": "markdown",
      "metadata": {
        "id": "8smC8Cd6qUDi"
      },
      "source": [
        "######### query d"
      ]
    },
    {
      "cell_type": "code",
      "metadata": {
        "id": "M2Fhj398qVa8"
      },
      "source": [
        "cl_df = spark.read.json(language_file)"
      ],
      "execution_count": 19,
      "outputs": []
    },
    {
      "cell_type": "code",
      "metadata": {
        "colab": {
          "base_uri": "https://localhost:8080/",
          "height": 0
        },
        "id": "7rQ6tznNqqkW",
        "outputId": "56a00f04-3a40-4959-a4b6-4ab99853de5c"
      },
      "source": [
        "cl_df.show()"
      ],
      "execution_count": 20,
      "outputs": [
        {
          "output_type": "stream",
          "text": [
            "+-----------+----------+----------------+----------+\n",
            "|CountryCode|IsOfficial|        Language|Percentage|\n",
            "+-----------+----------+----------------+----------+\n",
            "|        ABW|         T|           Dutch|       5.3|\n",
            "|        ABW|         F|         English|       9.5|\n",
            "|        ABW|         F|      Papiamento|      76.7|\n",
            "|        ABW|         F|         Spanish|       7.4|\n",
            "|        AFG|         F|         Balochi|       0.9|\n",
            "|        AFG|         T|            Dari|      32.1|\n",
            "|        AFG|         T|          Pashto|      52.4|\n",
            "|        AFG|         F|      Turkmenian|       1.9|\n",
            "|        AFG|         F|           Uzbek|       8.8|\n",
            "|        AGO|         F|            Ambo|       2.4|\n",
            "|        AGO|         F|          Chokwe|       4.2|\n",
            "|        AGO|         F|           Kongo|      13.2|\n",
            "|        AGO|         F|         Luchazi|       2.4|\n",
            "|        AGO|         F|Luimbe-nganguela|       5.4|\n",
            "|        AGO|         F|          Luvale|       3.6|\n",
            "|        AGO|         F|          Mbundu|      21.6|\n",
            "|        AGO|         F| Nyaneka-nkhumbi|       5.4|\n",
            "|        AGO|         F|       Ovimbundu|      37.2|\n",
            "|        AIA|         T|         English|       0.0|\n",
            "|        ALB|         T|       Albaniana|      97.9|\n",
            "+-----------+----------+----------------+----------+\n",
            "only showing top 20 rows\n",
            "\n"
          ],
          "name": "stdout"
        }
      ]
    },
    {
      "cell_type": "code",
      "metadata": {
        "colab": {
          "base_uri": "https://localhost:8080/",
          "height": 0
        },
        "id": "0o6YfDTUqjck",
        "outputId": "01e9c21d-caad-409d-9fd3-ab306e73c7b0"
      },
      "source": [
        "answerd_d = cl_df.select(cl_df['Language']).filter(cl_df['CountryCode']=='CAN').show()"
      ],
      "execution_count": 21,
      "outputs": [
        {
          "output_type": "stream",
          "text": [
            "+----------------+\n",
            "|        Language|\n",
            "+----------------+\n",
            "|         Chinese|\n",
            "|           Dutch|\n",
            "|         English|\n",
            "|Eskimo Languages|\n",
            "|          French|\n",
            "|          German|\n",
            "|         Italian|\n",
            "|          Polish|\n",
            "|      Portuguese|\n",
            "|         Punjabi|\n",
            "|         Spanish|\n",
            "|       Ukrainian|\n",
            "+----------------+\n",
            "\n"
          ],
          "name": "stdout"
        }
      ]
    },
    {
      "cell_type": "markdown",
      "metadata": {
        "id": "p2E-R6ZvrdKP"
      },
      "source": [
        "######### query e"
      ]
    },
    {
      "cell_type": "code",
      "metadata": {
        "id": "4Tgwp7rbr-0T"
      },
      "source": [
        "import pyspark.sql.functions as fc"
      ],
      "execution_count": 22,
      "outputs": []
    },
    {
      "cell_type": "code",
      "metadata": {
        "colab": {
          "base_uri": "https://localhost:8080/",
          "height": 0
        },
        "id": "5KuRnFoXvmu-",
        "outputId": "690bd36a-1677-4517-e141-16ddd62557df"
      },
      "source": [
        "country_df.select(country_df['Continent']).show()"
      ],
      "execution_count": 23,
      "outputs": [
        {
          "output_type": "stream",
          "text": [
            "+-------------+\n",
            "|    Continent|\n",
            "+-------------+\n",
            "|North America|\n",
            "|         Asia|\n",
            "|       Africa|\n",
            "|North America|\n",
            "|       Europe|\n",
            "|       Europe|\n",
            "|North America|\n",
            "|         Asia|\n",
            "|South America|\n",
            "|         Asia|\n",
            "|      Oceania|\n",
            "|   Antarctica|\n",
            "|   Antarctica|\n",
            "|North America|\n",
            "|      Oceania|\n",
            "|       Europe|\n",
            "|         Asia|\n",
            "|       Africa|\n",
            "|       Europe|\n",
            "|       Africa|\n",
            "+-------------+\n",
            "only showing top 20 rows\n",
            "\n"
          ],
          "name": "stdout"
        }
      ]
    },
    {
      "cell_type": "code",
      "metadata": {
        "id": "mNrSVfYjreaa"
      },
      "source": [
        "answer_e = country_df.select(country_df['Continent'], country_df['LifeExpectancy']) \\\n",
        "            .groupBy(country_df['Continent']) \\\n",
        "            .agg(fc.avg(country_df['LifeExpectancy']).alias('avg_le'),fc.count('*').alias('count'))"
      ],
      "execution_count": 24,
      "outputs": []
    },
    {
      "cell_type": "code",
      "metadata": {
        "id": "ESk4RYHDsoEf"
      },
      "source": [
        "final_ans = answer_e[answer_e['count'] >= 20].orderBy(fc.desc('count')).limit(1)"
      ],
      "execution_count": 25,
      "outputs": []
    },
    {
      "cell_type": "code",
      "metadata": {
        "colab": {
          "base_uri": "https://localhost:8080/",
          "height": 0
        },
        "id": "fZ70YQP7xP1g",
        "outputId": "c1967ee3-148a-40c6-b1aa-8fa901c66d77"
      },
      "source": [
        "final_ans = final_ans.select(final_ans['Continent'],final_ans['avg_le']).show()"
      ],
      "execution_count": 26,
      "outputs": [
        {
          "output_type": "stream",
          "text": [
            "+---------+----------------+\n",
            "|Continent|          avg_le|\n",
            "+---------+----------------+\n",
            "|   Africa|51.6655172413793|\n",
            "+---------+----------------+\n",
            "\n"
          ],
          "name": "stdout"
        }
      ]
    },
    {
      "cell_type": "code",
      "metadata": {
        "id": "VLk7fSfexsWO"
      },
      "source": [
        ""
      ],
      "execution_count": null,
      "outputs": []
    },
    {
      "cell_type": "code",
      "metadata": {
        "id": "ky0J7qHxxsRt"
      },
      "source": [
        ""
      ],
      "execution_count": null,
      "outputs": []
    },
    {
      "cell_type": "markdown",
      "metadata": {
        "id": "63xy4WdRxryd"
      },
      "source": [
        "# ###### Rdd_a"
      ]
    },
    {
      "cell_type": "code",
      "metadata": {
        "id": "_eEhx6Ke03gw"
      },
      "source": [
        "sc = spark.sparkContext"
      ],
      "execution_count": 27,
      "outputs": []
    },
    {
      "cell_type": "code",
      "metadata": {
        "id": "Ih6Si6NB30IM"
      },
      "source": [
        "rdd_a = country_df.rdd.map(list)"
      ],
      "execution_count": 28,
      "outputs": []
    },
    {
      "cell_type": "code",
      "metadata": {
        "colab": {
          "base_uri": "https://localhost:8080/",
          "height": 0
        },
        "id": "PegyXnTW8CYB",
        "outputId": "c03a6533-ca1f-4a89-80b7-c42c5f10ad3d"
      },
      "source": [
        "print(rdd_a.map(lambda x: (x[11],x[3])).filter(lambda x: x[1] == \"North America\").map(lambda x: x[0]).collect())"
      ],
      "execution_count": 50,
      "outputs": [
        {
          "output_type": "stream",
          "text": [
            "['Aruba', 'Anguilla', 'Netherlands Antilles', 'Antigua and Barbuda', 'Bahamas', 'Belize', 'Bermuda', 'Barbados', 'Canada', 'Costa Rica', 'Cuba', 'Cayman Islands', 'Dominica', 'Dominican Republic', 'Guadeloupe', 'Grenada', 'Greenland', 'Guatemala', 'Honduras', 'Haiti', 'Jamaica', 'Saint Kitts and Nevis', 'Saint Lucia', 'Mexico', 'Montserrat', 'Martinique', 'Nicaragua', 'Panama', 'Puerto Rico', 'El Salvador', 'Saint Pierre and Miquelon', 'Turks and Caicos Islands', 'Trinidad and Tobago', 'United States', 'Saint Vincent and the Grenadines', 'Virgin Islands, British', 'Virgin Islands, U.S.']\n"
          ],
          "name": "stdout"
        }
      ]
    },
    {
      "cell_type": "code",
      "metadata": {
        "id": "RVFkd7NK8DsY"
      },
      "source": [
        ""
      ],
      "execution_count": null,
      "outputs": []
    },
    {
      "cell_type": "code",
      "metadata": {
        "id": "vSKOPAst-BTv"
      },
      "source": [
        ""
      ],
      "execution_count": null,
      "outputs": []
    },
    {
      "cell_type": "code",
      "metadata": {
        "id": "25pf-n9C-BPx"
      },
      "source": [
        ""
      ],
      "execution_count": null,
      "outputs": []
    },
    {
      "cell_type": "markdown",
      "metadata": {
        "id": "PKTE88Fp-BsJ"
      },
      "source": [
        "####### rdd_b"
      ]
    },
    {
      "cell_type": "code",
      "metadata": {
        "id": "74zTJ-w3-Dvt"
      },
      "source": [
        "rdd_country = country_df.rdd.map(list)\n",
        "rdd_city = city_df.rdd.map(list)"
      ],
      "execution_count": 30,
      "outputs": []
    },
    {
      "cell_type": "code",
      "metadata": {
        "colab": {
          "base_uri": "https://localhost:8080/",
          "height": 0
        },
        "id": "ltm-gtRE-4N2",
        "outputId": "81cf0ca5-ad2b-4439-dd8d-8597a13396c7"
      },
      "source": [
        "#rdd_country.take(1)"
      ],
      "execution_count": 31,
      "outputs": [
        {
          "output_type": "execute_result",
          "data": {
            "text/plain": [
              "[[129,\n",
              "  'ABW',\n",
              "  'AW',\n",
              "  'North America',\n",
              "  828.0,\n",
              "  793.0,\n",
              "  'Nonmetropolitan Territory of The Netherlands',\n",
              "  'Beatrix',\n",
              "  0,\n",
              "  78.4,\n",
              "  'Aruba',\n",
              "  'Aruba',\n",
              "  103000,\n",
              "  'Caribbean',\n",
              "  193.0]]"
            ]
          },
          "metadata": {
            "tags": []
          },
          "execution_count": 31
        }
      ]
    },
    {
      "cell_type": "code",
      "metadata": {
        "colab": {
          "base_uri": "https://localhost:8080/",
          "height": 0
        },
        "id": "963ZFp0N-QmG",
        "outputId": "abcaeb13-e9ac-473d-9506-84ca32316432"
      },
      "source": [
        "a = rdd_country.map(lambda x: (x[11],x[0]))\n",
        "#a.collect()"
      ],
      "execution_count": 38,
      "outputs": [
        {
          "output_type": "execute_result",
          "data": {
            "text/plain": [
              "[('Aruba', 129),\n",
              " ('Afghanistan', 1),\n",
              " ('Angola', 56),\n",
              " ('Anguilla', 62),\n",
              " ('Albania', 34),\n",
              " ('Andorra', 55),\n",
              " ('Netherlands Antilles', 33),\n",
              " ('United Arab Emirates', 65),\n",
              " ('Argentina', 69),\n",
              " ('Armenia', 126),\n",
              " ('American Samoa', 54),\n",
              " ('Antarctica', 0),\n",
              " ('French Southern territories', 0),\n",
              " ('Antigua and Barbuda', 63),\n",
              " ('Australia', 135),\n",
              " ('Austria', 1523),\n",
              " ('Azerbaijan', 144),\n",
              " ('Burundi', 552),\n",
              " ('Belgium', 179),\n",
              " ('Benin', 187),\n",
              " ('Burkina Faso', 549),\n",
              " ('Bangladesh', 150),\n",
              " ('Bulgaria', 539),\n",
              " ('Bahrain', 149),\n",
              " ('Bahamas', 148),\n",
              " ('Bosnia and Herzegovina', 201),\n",
              " ('Belarus', 3520),\n",
              " ('Belize', 185),\n",
              " ('Bermuda', 191),\n",
              " ('Bolivia', 194),\n",
              " ('Brazil', 211),\n",
              " ('Barbados', 174),\n",
              " ('Brunei', 538),\n",
              " ('Bhutan', 192),\n",
              " ('Bouvet Island', 0),\n",
              " ('Botswana', 204),\n",
              " ('Central African Republic', 1889),\n",
              " ('Canada', 1822),\n",
              " ('Cocos (Keeling) Islands', 2317),\n",
              " ('Switzerland', 3248),\n",
              " ('Chile', 554),\n",
              " ('China', 1891),\n",
              " ('CÃ´te dÂ’Ivoire', 2814),\n",
              " ('Cameroon', 1804),\n",
              " ('Congo, The Democratic Republic of the', 2298),\n",
              " ('Congo', 2296),\n",
              " ('Cook Islands', 583),\n",
              " ('Colombia', 2257),\n",
              " ('Comoros', 2295),\n",
              " ('Cape Verde', 1859),\n",
              " ('Costa Rica', 584),\n",
              " ('Cuba', 2413),\n",
              " ('Christmas Island', 1791),\n",
              " ('Cayman Islands', 553),\n",
              " ('Cyprus', 2430),\n",
              " ('Czech Republic', 3339),\n",
              " ('Germany', 3068),\n",
              " ('Djibouti', 585),\n",
              " ('Dominica', 586),\n",
              " ('Denmark', 3315),\n",
              " ('Dominican Republic', 587),\n",
              " ('Algeria', 35),\n",
              " ('Ecuador', 594),\n",
              " ('Egypt', 608),\n",
              " ('Eritrea', 652),\n",
              " ('Western Sahara', 2453),\n",
              " ('Spain', 653),\n",
              " ('Estonia', 3791),\n",
              " ('Ethiopia', 756),\n",
              " ('Finland', 3236),\n",
              " ('Fiji Islands', 764),\n",
              " ('Falkland Islands', 763),\n",
              " ('France', 2974),\n",
              " ('Faroe Islands', 901),\n",
              " ('Micronesia, Federated States of', 2689),\n",
              " ('Gabon', 902),\n",
              " ('United Kingdom', 456),\n",
              " ('Georgia', 905),\n",
              " ('Ghana', 910),\n",
              " ('Gibraltar', 915),\n",
              " ('Guinea', 926),\n",
              " ('Guadeloupe', 919),\n",
              " ('Gambia', 904),\n",
              " ('Guinea-Bissau', 927),\n",
              " ('Equatorial Guinea', 2972),\n",
              " ('Greece', 2401),\n",
              " ('Grenada', 916),\n",
              " ('Greenland', 917),\n",
              " ('Guatemala', 922),\n",
              " ('French Guiana', 3014),\n",
              " ('Guam', 921),\n",
              " ('Guyana', 928),\n",
              " ('Hong Kong', 937),\n",
              " ('Heard Island and McDonald Islands', 0),\n",
              " ('Honduras', 933),\n",
              " ('Croatia', 2409),\n",
              " ('Haiti', 929),\n",
              " ('Hungary', 3483),\n",
              " ('Indonesia', 939),\n",
              " ('India', 1109),\n",
              " ('British Indian Ocean Territory', 0),\n",
              " ('Ireland', 1447),\n",
              " ('Iran', 1380),\n",
              " ('Iraq', 1365),\n",
              " ('Iceland', 1449),\n",
              " ('Israel', 1450),\n",
              " ('Italy', 1464),\n",
              " ('Jamaica', 1530),\n",
              " ('Jordan', 1786),\n",
              " ('Japan', 1532),\n",
              " ('Kazakstan', 1864),\n",
              " ('Kenya', 1881),\n",
              " ('Kyrgyzstan', 2253),\n",
              " ('Cambodia', 1800),\n",
              " ('Kiribati', 2256),\n",
              " ('Saint Kitts and Nevis', 3064),\n",
              " ('South Korea', 2331),\n",
              " ('Kuwait', 2429),\n",
              " ('Laos', 2432),\n",
              " ('Lebanon', 2438),\n",
              " ('Liberia', 2440),\n",
              " ('Libyan Arab Jamahiriya', 2441),\n",
              " ('Saint Lucia', 3065),\n",
              " ('Liechtenstein', 2446),\n",
              " ('Sri Lanka', 3217),\n",
              " ('Lesotho', 2437),\n",
              " ('Lithuania', 2447),\n",
              " ('Luxembourg', 2452),\n",
              " ('Latvia', 2434),\n",
              " ('Macao', 2454),\n",
              " ('Morocco', 2486),\n",
              " ('Monaco', 2695),\n",
              " ('Moldova', 2690),\n",
              " ('Madagascar', 2455),\n",
              " ('Maldives', 2463),\n",
              " ('Mexico', 2515),\n",
              " ('Marshall Islands', 2507),\n",
              " ('Macedonia', 2460),\n",
              " ('Mali', 2482),\n",
              " ('Malta', 2484),\n",
              " ('Myanmar', 2710),\n",
              " ('Mongolia', 2696),\n",
              " ('Northern Mariana Islands', 2913),\n",
              " ('Mozambique', 2698),\n",
              " ('Mauritania', 2509),\n",
              " ('Montserrat', 2697),\n",
              " ('Martinique', 2508),\n",
              " ('Mauritius', 2511),\n",
              " ('Malawi', 2462),\n",
              " ('Malaysia', 2464),\n",
              " ('Mayotte', 2514),\n",
              " ('Namibia', 2726),\n",
              " ('New Caledonia', 3493),\n",
              " ('Niger', 2738),\n",
              " ('Norfolk Island', 2806),\n",
              " ('Nigeria', 2754),\n",
              " ('Nicaragua', 2734),\n",
              " ('Niue', 2805),\n",
              " ('Netherlands', 5),\n",
              " ('Norway', 2807),\n",
              " ('Nepal', 2729),\n",
              " ('Nauru', 2728),\n",
              " ('New Zealand', 3499),\n",
              " ('Oman', 2821),\n",
              " ('Pakistan', 2831),\n",
              " ('Panama', 2882),\n",
              " ('Pitcairn', 2912),\n",
              " ('Peru', 2890),\n",
              " ('Philippines', 766),\n",
              " ('Palau', 2881),\n",
              " ('Papua New Guinea', 2884),\n",
              " ('Poland', 2928),\n",
              " ('Puerto Rico', 2919),\n",
              " ('North Korea', 2318),\n",
              " ('Portugal', 2914),\n",
              " ('Paraguay', 2885),\n",
              " ('Palestine', 4074),\n",
              " ('French Polynesia', 3016),\n",
              " ('Qatar', 2973),\n",
              " ('RÃ©union', 3017),\n",
              " ('Romania', 3018),\n",
              " ('Russian Federation', 3580),\n",
              " ('Rwanda', 3047),\n",
              " ('Saudi Arabia', 3173),\n",
              " ('Sudan', 3225),\n",
              " ('Senegal', 3198),\n",
              " ('Singapore', 3208),\n",
              " ('South Georgia and the South Sandwich Islands', 0),\n",
              " ('Saint Helena', 3063),\n",
              " ('Svalbard and Jan Mayen', 938),\n",
              " ('Solomon Islands', 3161),\n",
              " ('Sierra Leone', 3207),\n",
              " ('El Salvador', 645),\n",
              " ('San Marino', 3171),\n",
              " ('Somalia', 3214),\n",
              " ('Saint Pierre and Miquelon', 3067),\n",
              " ('Sao Tome and Principe', 3172),\n",
              " ('Suriname', 3243),\n",
              " ('Slovakia', 3209),\n",
              " ('Slovenia', 3212),\n",
              " ('Sweden', 3048),\n",
              " ('Swaziland', 3244),\n",
              " ('Seychelles', 3206),\n",
              " ('Syria', 3250),\n",
              " ('Turks and Caicos Islands', 3423),\n",
              " ('Chad', 3337),\n",
              " ('Togo', 3332),\n",
              " ('Thailand', 3320),\n",
              " ('Tajikistan', 3261),\n",
              " ('Tokelau', 3333),\n",
              " ('Turkmenistan', 3419),\n",
              " ('East Timor', 1522),\n",
              " ('Tonga', 3334),\n",
              " ('Trinidad and Tobago', 3336),\n",
              " ('Tunisia', 3349),\n",
              " ('Turkey', 3358),\n",
              " ('Tuvalu', 3424),\n",
              " ('Taiwan', 3263),\n",
              " ('Tanzania', 3306),\n",
              " ('Uganda', 3425),\n",
              " ('Ukraine', 3426),\n",
              " ('United States Minor Outlying Islands', 0),\n",
              " ('Uruguay', 3492),\n",
              " ('United States', 3813),\n",
              " ('Uzbekistan', 3503),\n",
              " ('Holy See (Vatican City State)', 3538),\n",
              " ('Saint Vincent and the Grenadines', 3066),\n",
              " ('Venezuela', 3539),\n",
              " ('Virgin Islands, British', 537),\n",
              " ('Virgin Islands, U.S.', 4067),\n",
              " ('Vietnam', 3770),\n",
              " ('Vanuatu', 3537),\n",
              " ('Wallis and Futuna', 3536),\n",
              " ('Samoa', 3169),\n",
              " ('Yemen', 1780),\n",
              " ('Yugoslavia', 1792),\n",
              " ('South Africa', 716),\n",
              " ('Zambia', 3162),\n",
              " ('Zimbabwe', 4068)]"
            ]
          },
          "metadata": {
            "tags": []
          },
          "execution_count": 38
        }
      ]
    },
    {
      "cell_type": "code",
      "metadata": {
        "colab": {
          "base_uri": "https://localhost:8080/",
          "height": 0
        },
        "id": "7ZybKJB8V_Dz",
        "outputId": "c57f0e48-3187-4b6d-bef3-2fce9742b1fb"
      },
      "source": [
        "#type(a)"
      ],
      "execution_count": 33,
      "outputs": [
        {
          "output_type": "execute_result",
          "data": {
            "text/plain": [
              "pyspark.rdd.PipelinedRDD"
            ]
          },
          "metadata": {
            "tags": []
          },
          "execution_count": 33
        }
      ]
    },
    {
      "cell_type": "code",
      "metadata": {
        "colab": {
          "base_uri": "https://localhost:8080/",
          "height": 0
        },
        "id": "VRB_WnnK_GWT",
        "outputId": "eb3462d4-992f-4530-e50d-b2c67b917d5e"
      },
      "source": [
        "#rdd_city.first()"
      ],
      "execution_count": 39,
      "outputs": [
        {
          "output_type": "execute_result",
          "data": {
            "text/plain": [
              "['AFG', 'Kabol', 1, 'Kabul', 1780000]"
            ]
          },
          "metadata": {
            "tags": []
          },
          "execution_count": 39
        }
      ]
    },
    {
      "cell_type": "code",
      "metadata": {
        "colab": {
          "base_uri": "https://localhost:8080/",
          "height": 0
        },
        "id": "6ywGDbag-zQ_",
        "outputId": "c0845b80-2cf8-4084-fdd5-a3dc1b52eae1"
      },
      "source": [
        "b = rdd_city.map(lambda x: (x[3],x[2]))\n",
        "#b.collect()\n"
      ],
      "execution_count": 42,
      "outputs": [
        {
          "output_type": "execute_result",
          "data": {
            "text/plain": [
              "[('Kabul', 1),\n",
              " ('Qandahar', 2),\n",
              " ('Herat', 3),\n",
              " ('Mazar-e-Sharif', 4),\n",
              " ('Amsterdam', 5),\n",
              " ('Rotterdam', 6),\n",
              " ('Haag', 7),\n",
              " ('Utrecht', 8),\n",
              " ('Eindhoven', 9),\n",
              " ('Tilburg', 10),\n",
              " ('Groningen', 11),\n",
              " ('Breda', 12),\n",
              " ('Apeldoorn', 13),\n",
              " ('Nijmegen', 14),\n",
              " ('Enschede', 15),\n",
              " ('Haarlem', 16),\n",
              " ('Almere', 17),\n",
              " ('Arnhem', 18),\n",
              " ('Zaanstad', 19),\n",
              " ('Â´s-Hertogenbosch', 20),\n",
              " ('Amersfoort', 21),\n",
              " ('Maastricht', 22),\n",
              " ('Dordrecht', 23),\n",
              " ('Leiden', 24),\n",
              " ('Haarlemmermeer', 25),\n",
              " ('Zoetermeer', 26),\n",
              " ('Emmen', 27),\n",
              " ('Zwolle', 28),\n",
              " ('Ede', 29),\n",
              " ('Delft', 30),\n",
              " ('Heerlen', 31),\n",
              " ('Alkmaar', 32),\n",
              " ('Willemstad', 33),\n",
              " ('Tirana', 34),\n",
              " ('Alger', 35),\n",
              " ('Oran', 36),\n",
              " ('Constantine', 37),\n",
              " ('Annaba', 38),\n",
              " ('Batna', 39),\n",
              " ('SÃ©tif', 40),\n",
              " ('Sidi Bel AbbÃ¨s', 41),\n",
              " ('Skikda', 42),\n",
              " ('Biskra', 43),\n",
              " ('Blida (el-Boulaida)', 44),\n",
              " ('BÃ©jaÃ¯a', 45),\n",
              " ('Mostaganem', 46),\n",
              " ('TÃ©bessa', 47),\n",
              " ('Tlemcen (Tilimsen)', 48),\n",
              " ('BÃ©char', 49),\n",
              " ('Tiaret', 50),\n",
              " ('Ech-Chleff (el-Asnam)', 51),\n",
              " ('GhardaÃ¯a', 52),\n",
              " ('Tafuna', 53),\n",
              " ('Fagatogo', 54),\n",
              " ('Andorra la Vella', 55),\n",
              " ('Luanda', 56),\n",
              " ('Huambo', 57),\n",
              " ('Lobito', 58),\n",
              " ('Benguela', 59),\n",
              " ('Namibe', 60),\n",
              " ('South Hill', 61),\n",
              " ('The Valley', 62),\n",
              " ('Saint JohnÂ´s', 63),\n",
              " ('Dubai', 64),\n",
              " ('Abu Dhabi', 65),\n",
              " ('Sharja', 66),\n",
              " ('al-Ayn', 67),\n",
              " ('Ajman', 68),\n",
              " ('Buenos Aires', 69),\n",
              " ('La Matanza', 70),\n",
              " ('CÃ³rdoba', 71),\n",
              " ('Rosario', 72),\n",
              " ('Lomas de Zamora', 73),\n",
              " ('Quilmes', 74),\n",
              " ('Almirante Brown', 75),\n",
              " ('La Plata', 76),\n",
              " ('Mar del Plata', 77),\n",
              " ('San Miguel de TucumÃ¡n', 78),\n",
              " ('LanÃºs', 79),\n",
              " ('Merlo', 80),\n",
              " ('General San MartÃ\\xadn', 81),\n",
              " ('Salta', 82),\n",
              " ('Moreno', 83),\n",
              " ('Santa FÃ©', 84),\n",
              " ('Avellaneda', 85),\n",
              " ('Tres de Febrero', 86),\n",
              " ('MorÃ³n', 87),\n",
              " ('Florencio Varela', 88),\n",
              " ('San Isidro', 89),\n",
              " ('Tigre', 90),\n",
              " ('Malvinas Argentinas', 91),\n",
              " ('Vicente LÃ³pez', 92),\n",
              " ('Berazategui', 93),\n",
              " ('Corrientes', 94),\n",
              " ('San Miguel', 95),\n",
              " ('BahÃ\\xada Blanca', 96),\n",
              " ('Esteban EcheverrÃ\\xada', 97),\n",
              " ('Resistencia', 98),\n",
              " ('JosÃ© C. Paz', 99),\n",
              " ('ParanÃ¡', 100),\n",
              " ('Godoy Cruz', 101),\n",
              " ('Posadas', 102),\n",
              " ('GuaymallÃ©n', 103),\n",
              " ('Santiago del Estero', 104),\n",
              " ('San Salvador de Jujuy', 105),\n",
              " ('Hurlingham', 106),\n",
              " ('NeuquÃ©n', 107),\n",
              " ('ItuzaingÃ³', 108),\n",
              " ('San Fernando', 109),\n",
              " ('Formosa', 110),\n",
              " ('Las Heras', 111),\n",
              " ('La Rioja', 112),\n",
              " ('San Fernando del Valle de Cata', 113),\n",
              " ('RÃ\\xado Cuarto', 114),\n",
              " ('Comodoro Rivadavia', 115),\n",
              " ('Mendoza', 116),\n",
              " ('San NicolÃ¡s de los Arroyos', 117),\n",
              " ('San Juan', 118),\n",
              " ('Escobar', 119),\n",
              " ('Concordia', 120),\n",
              " ('Pilar', 121),\n",
              " ('San Luis', 122),\n",
              " ('Ezeiza', 123),\n",
              " ('San Rafael', 124),\n",
              " ('Tandil', 125),\n",
              " ('Yerevan', 126),\n",
              " ('Gjumri', 127),\n",
              " ('Vanadzor', 128),\n",
              " ('Oranjestad', 129),\n",
              " ('Sydney', 130),\n",
              " ('Melbourne', 131),\n",
              " ('Brisbane', 132),\n",
              " ('Perth', 133),\n",
              " ('Adelaide', 134),\n",
              " ('Canberra', 135),\n",
              " ('Gold Coast', 136),\n",
              " ('Newcastle', 137),\n",
              " ('Central Coast', 138),\n",
              " ('Wollongong', 139),\n",
              " ('Hobart', 140),\n",
              " ('Geelong', 141),\n",
              " ('Townsville', 142),\n",
              " ('Cairns', 143),\n",
              " ('Baku', 144),\n",
              " ('GÃ¤ncÃ¤', 145),\n",
              " ('Sumqayit', 146),\n",
              " ('MingÃ¤Ã§evir', 147),\n",
              " ('Nassau', 148),\n",
              " ('al-Manama', 149),\n",
              " ('Dhaka', 150),\n",
              " ('Chittagong', 151),\n",
              " ('Khulna', 152),\n",
              " ('Rajshahi', 153),\n",
              " ('Narayanganj', 154),\n",
              " ('Rangpur', 155),\n",
              " ('Mymensingh', 156),\n",
              " ('Barisal', 157),\n",
              " ('Tungi', 158),\n",
              " ('Jessore', 159),\n",
              " ('Comilla', 160),\n",
              " ('Nawabganj', 161),\n",
              " ('Dinajpur', 162),\n",
              " ('Bogra', 163),\n",
              " ('Sylhet', 164),\n",
              " ('Brahmanbaria', 165),\n",
              " ('Tangail', 166),\n",
              " ('Jamalpur', 167),\n",
              " ('Pabna', 168),\n",
              " ('Naogaon', 169),\n",
              " ('Sirajganj', 170),\n",
              " ('Narsinghdi', 171),\n",
              " ('Saidpur', 172),\n",
              " ('Gazipur', 173),\n",
              " ('Bridgetown', 174),\n",
              " ('Antwerpen', 175),\n",
              " ('Gent', 176),\n",
              " ('Charleroi', 177),\n",
              " ('LiÃ¨ge', 178),\n",
              " ('Bruxelles [Brussel]', 179),\n",
              " ('Brugge', 180),\n",
              " ('Schaerbeek', 181),\n",
              " ('Namur', 182),\n",
              " ('Mons', 183),\n",
              " ('Belize City', 184),\n",
              " ('Belmopan', 185),\n",
              " ('Cotonou', 186),\n",
              " ('Porto-Novo', 187),\n",
              " ('Djougou', 188),\n",
              " ('Parakou', 189),\n",
              " ('Saint George', 190),\n",
              " ('Hamilton', 191),\n",
              " ('Thimphu', 192),\n",
              " ('Santa Cruz de la Sierra', 193),\n",
              " ('La Paz', 194),\n",
              " ('El Alto', 195),\n",
              " ('Cochabamba', 196),\n",
              " ('Oruro', 197),\n",
              " ('Sucre', 198),\n",
              " ('PotosÃ\\xad', 199),\n",
              " ('Tarija', 200),\n",
              " ('Sarajevo', 201),\n",
              " ('Banja Luka', 202),\n",
              " ('Zenica', 203),\n",
              " ('Gaborone', 204),\n",
              " ('Francistown', 205),\n",
              " ('SÃ£o Paulo', 206),\n",
              " ('Rio de Janeiro', 207),\n",
              " ('Salvador', 208),\n",
              " ('Belo Horizonte', 209),\n",
              " ('Fortaleza', 210),\n",
              " ('BrasÃ\\xadlia', 211),\n",
              " ('Curitiba', 212),\n",
              " ('Recife', 213),\n",
              " ('Porto Alegre', 214),\n",
              " ('Manaus', 215),\n",
              " ('BelÃ©m', 216),\n",
              " ('Guarulhos', 217),\n",
              " ('GoiÃ¢nia', 218),\n",
              " ('Campinas', 219),\n",
              " ('SÃ£o GonÃ§alo', 220),\n",
              " ('Nova IguaÃ§u', 221),\n",
              " ('SÃ£o LuÃ\\xads', 222),\n",
              " ('MaceiÃ³', 223),\n",
              " ('Duque de Caxias', 224),\n",
              " ('SÃ£o Bernardo do Campo', 225),\n",
              " ('Teresina', 226),\n",
              " ('Natal', 227),\n",
              " ('Osasco', 228),\n",
              " ('Campo Grande', 229),\n",
              " ('Santo AndrÃ©', 230),\n",
              " ('JoÃ£o Pessoa', 231),\n",
              " ('JaboatÃ£o dos Guararapes', 232),\n",
              " ('Contagem', 233),\n",
              " ('SÃ£o JosÃ© dos Campos', 234),\n",
              " ('UberlÃ¢ndia', 235),\n",
              " ('Feira de Santana', 236),\n",
              " ('RibeirÃ£o Preto', 237),\n",
              " ('Sorocaba', 238),\n",
              " ('NiterÃ³i', 239),\n",
              " ('CuiabÃ¡', 240),\n",
              " ('Juiz de Fora', 241),\n",
              " ('Aracaju', 242),\n",
              " ('SÃ£o JoÃ£o de Meriti', 243),\n",
              " ('Londrina', 244),\n",
              " ('Joinville', 245),\n",
              " ('Belford Roxo', 246),\n",
              " ('Santos', 247),\n",
              " ('Ananindeua', 248),\n",
              " ('Campos dos Goytacazes', 249),\n",
              " ('MauÃ¡', 250),\n",
              " ('CarapicuÃ\\xadba', 251),\n",
              " ('Olinda', 252),\n",
              " ('Campina Grande', 253),\n",
              " ('SÃ£o JosÃ© do Rio Preto', 254),\n",
              " ('Caxias do Sul', 255),\n",
              " ('Moji das Cruzes', 256),\n",
              " ('Diadema', 257),\n",
              " ('Aparecida de GoiÃ¢nia', 258),\n",
              " ('Piracicaba', 259),\n",
              " ('Cariacica', 260),\n",
              " ('Vila Velha', 261),\n",
              " ('Pelotas', 262),\n",
              " ('Bauru', 263),\n",
              " ('Porto Velho', 264),\n",
              " ('Serra', 265),\n",
              " ('Betim', 266),\n",
              " ('JundÃ\\xadaÃ\\xad', 267),\n",
              " ('Canoas', 268),\n",
              " ('Franca', 269),\n",
              " ('SÃ£o Vicente', 270),\n",
              " ('MaringÃ¡', 271),\n",
              " ('Montes Claros', 272),\n",
              " ('AnÃ¡polis', 273),\n",
              " ('FlorianÃ³polis', 274),\n",
              " ('PetrÃ³polis', 275),\n",
              " ('Itaquaquecetuba', 276),\n",
              " ('VitÃ³ria', 277),\n",
              " ('Ponta Grossa', 278),\n",
              " ('Rio Branco', 279),\n",
              " ('Foz do IguaÃ§u', 280),\n",
              " ('MacapÃ¡', 281),\n",
              " ('IlhÃ©us', 282),\n",
              " ('VitÃ³ria da Conquista', 283),\n",
              " ('Uberaba', 284),\n",
              " ('Paulista', 285),\n",
              " ('Limeira', 286),\n",
              " ('Blumenau', 287),\n",
              " ('Caruaru', 288),\n",
              " ('SantarÃ©m', 289),\n",
              " ('Volta Redonda', 290),\n",
              " ('Novo Hamburgo', 291),\n",
              " ('Caucaia', 292),\n",
              " ('Santa Maria', 293),\n",
              " ('Cascavel', 294),\n",
              " ('GuarujÃ¡', 295),\n",
              " ('RibeirÃ£o das Neves', 296),\n",
              " ('Governador Valadares', 297),\n",
              " ('TaubatÃ©', 298),\n",
              " ('Imperatriz', 299),\n",
              " ('GravataÃ\\xad', 300),\n",
              " ('Embu', 301),\n",
              " ('MossorÃ³', 302),\n",
              " ('VÃ¡rzea Grande', 303),\n",
              " ('Petrolina', 304),\n",
              " ('Barueri', 305),\n",
              " ('ViamÃ£o', 306),\n",
              " ('Ipatinga', 307),\n",
              " ('Juazeiro', 308),\n",
              " ('Juazeiro do Norte', 309),\n",
              " ('TaboÃ£o da Serra', 310),\n",
              " ('SÃ£o JosÃ© dos Pinhais', 311),\n",
              " ('MagÃ©', 312),\n",
              " ('Suzano', 313),\n",
              " ('SÃ£o Leopoldo', 314),\n",
              " ('MarÃ\\xadlia', 315),\n",
              " ('SÃ£o Carlos', 316),\n",
              " ('SumarÃ©', 317),\n",
              " ('Presidente Prudente', 318),\n",
              " ('DivinÃ³polis', 319),\n",
              " ('Sete Lagoas', 320),\n",
              " ('Rio Grande', 321),\n",
              " ('Itabuna', 322),\n",
              " ('JequiÃ©', 323),\n",
              " ('Arapiraca', 324),\n",
              " ('Colombo', 325),\n",
              " ('Americana', 326),\n",
              " ('Alvorada', 327),\n",
              " ('Araraquara', 328),\n",
              " ('ItaboraÃ\\xad', 329),\n",
              " ('Santa BÃ¡rbara dÂ´Oeste', 330),\n",
              " ('Nova Friburgo', 331),\n",
              " ('JacareÃ\\xad', 332),\n",
              " ('AraÃ§atuba', 333),\n",
              " ('Barra Mansa', 334),\n",
              " ('Praia Grande', 335),\n",
              " ('MarabÃ¡', 336),\n",
              " ('CriciÃºma', 337),\n",
              " ('Boa Vista', 338),\n",
              " ('Passo Fundo', 339),\n",
              " ('Dourados', 340),\n",
              " ('Santa Luzia', 341),\n",
              " ('Rio Claro', 342),\n",
              " ('MaracanaÃº', 343),\n",
              " ('Guarapuava', 344),\n",
              " ('RondonÃ³polis', 345),\n",
              " ('SÃ£o JosÃ©', 346),\n",
              " ('Cachoeiro de Itapemirim', 347),\n",
              " ('NilÃ³polis', 348),\n",
              " ('Itapevi', 349),\n",
              " ('Cabo de Santo Agostinho', 350),\n",
              " ('CamaÃ§ari', 351),\n",
              " ('Sobral', 352),\n",
              " ('ItajaÃ\\xad', 353),\n",
              " ('ChapecÃ³', 354),\n",
              " ('Cotia', 355),\n",
              " ('Lages', 356),\n",
              " ('Ferraz de Vasconcelos', 357),\n",
              " ('Indaiatuba', 358),\n",
              " ('HortolÃ¢ndia', 359),\n",
              " ('Caxias', 360),\n",
              " ('SÃ£o Caetano do Sul', 361),\n",
              " ('Itu', 362),\n",
              " ('Nossa Senhora do Socorro', 363),\n",
              " ('ParnaÃ\\xadba', 364),\n",
              " ('PoÃ§os de Caldas', 365),\n",
              " ('TeresÃ³polis', 366),\n",
              " ('Barreiras', 367),\n",
              " ('Castanhal', 368),\n",
              " ('Alagoinhas', 369),\n",
              " ('Itapecerica da Serra', 370),\n",
              " ('Uruguaiana', 371),\n",
              " ('ParanaguÃ¡', 372),\n",
              " ('IbiritÃ©', 373),\n",
              " ('Timon', 374),\n",
              " ('LuziÃ¢nia', 375),\n",
              " ('MacaÃ©', 376),\n",
              " ('TeÃ³filo Otoni', 377),\n",
              " ('Moji-GuaÃ§u', 378),\n",
              " ('Palmas', 379),\n",
              " ('Pindamonhangaba', 380),\n",
              " ('Francisco Morato', 381),\n",
              " ('BagÃ©', 382),\n",
              " ('Sapucaia do Sul', 383),\n",
              " ('Cabo Frio', 384),\n",
              " ('Itapetininga', 385),\n",
              " ('Patos de Minas', 386),\n",
              " ('Camaragibe', 387),\n",
              " ('BraganÃ§a Paulista', 388),\n",
              " ('Queimados', 389),\n",
              " ('AraguaÃ\\xadna', 390),\n",
              " ('Garanhuns', 391),\n",
              " ('VitÃ³ria de Santo AntÃ£o', 392),\n",
              " ('Santa Rita', 393),\n",
              " ('Barbacena', 394),\n",
              " ('Abaetetuba', 395),\n",
              " ('JaÃº', 396),\n",
              " ('Lauro de Freitas', 397),\n",
              " ('Franco da Rocha', 398),\n",
              " ('Teixeira de Freitas', 399),\n",
              " ('Varginha', 400),\n",
              " ('RibeirÃ£o Pires', 401),\n",
              " ('SabarÃ¡', 402),\n",
              " ('Catanduva', 403),\n",
              " ('Rio Verde', 404),\n",
              " ('Botucatu', 405),\n",
              " ('Colatina', 406),\n",
              " ('Santa Cruz do Sul', 407),\n",
              " ('Linhares', 408),\n",
              " ('Apucarana', 409),\n",
              " ('Barretos', 410),\n",
              " ('GuaratinguetÃ¡', 411),\n",
              " ('Cachoeirinha', 412),\n",
              " ('CodÃ³', 413),\n",
              " ('JaraguÃ¡ do Sul', 414),\n",
              " ('CubatÃ£o', 415),\n",
              " ('Itabira', 416),\n",
              " ('Itaituba', 417),\n",
              " ('Araras', 418),\n",
              " ('Resende', 419),\n",
              " ('Atibaia', 420),\n",
              " ('Pouso Alegre', 421),\n",
              " ('Toledo', 422),\n",
              " ('Crato', 423),\n",
              " ('Passos', 424),\n",
              " ('Araguari', 425),\n",
              " ('SÃ£o JosÃ© de Ribamar', 426),\n",
              " ('Pinhais', 427),\n",
              " ('SertÃ£ozinho', 428),\n",
              " ('Conselheiro Lafaiete', 429),\n",
              " ('Paulo Afonso', 430),\n",
              " ('Angra dos Reis', 431),\n",
              " ('EunÃ¡polis', 432),\n",
              " ('Salto', 433),\n",
              " ('Ourinhos', 434),\n",
              " ('Parnamirim', 435),\n",
              " ('Jacobina', 436),\n",
              " ('Coronel Fabriciano', 437),\n",
              " ('Birigui', 438),\n",
              " ('TatuÃ\\xad', 439),\n",
              " ('Ji-ParanÃ¡', 440),\n",
              " ('Bacabal', 441),\n",
              " ('CametÃ¡', 442),\n",
              " ('GuaÃ\\xadba', 443),\n",
              " ('SÃ£o LourenÃ§o da Mata', 444),\n",
              " ('Santana do Livramento', 445),\n",
              " ('Votorantim', 446),\n",
              " ('Campo Largo', 447),\n",
              " ('Patos', 448),\n",
              " ('Ituiutaba', 449),\n",
              " ('CorumbÃ¡', 450),\n",
              " ('PalhoÃ§a', 451),\n",
              " ('Barra do PiraÃ\\xad', 452),\n",
              " ('Bento GonÃ§alves', 453),\n",
              " ('PoÃ¡', 454),\n",
              " ('Ã\\x81guas Lindas de GoiÃ¡s', 455),\n",
              " ('London', 456),\n",
              " ('Birmingham', 457),\n",
              " ('Glasgow', 458),\n",
              " ('Liverpool', 459),\n",
              " ('Edinburgh', 460),\n",
              " ('Sheffield', 461),\n",
              " ('Manchester', 462),\n",
              " ('Leeds', 463),\n",
              " ('Bristol', 464),\n",
              " ('Cardiff', 465),\n",
              " ('Coventry', 466),\n",
              " ('Leicester', 467),\n",
              " ('Bradford', 468),\n",
              " ('Belfast', 469),\n",
              " ('Nottingham', 470),\n",
              " ('Kingston upon Hull', 471),\n",
              " ('Plymouth', 472),\n",
              " ('Stoke-on-Trent', 473),\n",
              " ('Wolverhampton', 474),\n",
              " ('Derby', 475),\n",
              " ('Swansea', 476),\n",
              " ('Southampton', 477),\n",
              " ('Aberdeen', 478),\n",
              " ('Northampton', 479),\n",
              " ('Dudley', 480),\n",
              " ('Portsmouth', 481),\n",
              " ('Newcastle upon Tyne', 482),\n",
              " ('Sunderland', 483),\n",
              " ('Luton', 484),\n",
              " ('Swindon', 485),\n",
              " ('Southend-on-Sea', 486),\n",
              " ('Walsall', 487),\n",
              " ('Bournemouth', 488),\n",
              " ('Peterborough', 489),\n",
              " ('Brighton', 490),\n",
              " ('Blackpool', 491),\n",
              " ('Dundee', 492),\n",
              " ('West Bromwich', 493),\n",
              " ('Reading', 494),\n",
              " ('Oldbury/Smethwick (Warley)', 495),\n",
              " ('Middlesbrough', 496),\n",
              " ('Huddersfield', 497),\n",
              " ('Oxford', 498),\n",
              " ('Poole', 499),\n",
              " ('Bolton', 500),\n",
              " ('Blackburn', 501),\n",
              " ('Newport', 502),\n",
              " ('Preston', 503),\n",
              " ('Stockport', 504),\n",
              " ('Norwich', 505),\n",
              " ('Rotherham', 506),\n",
              " ('Cambridge', 507),\n",
              " ('Watford', 508),\n",
              " ('Ipswich', 509),\n",
              " ('Slough', 510),\n",
              " ('Exeter', 511),\n",
              " ('Cheltenham', 512),\n",
              " ('Gloucester', 513),\n",
              " ('Saint Helens', 514),\n",
              " ('Sutton Coldfield', 515),\n",
              " ('York', 516),\n",
              " ('Oldham', 517),\n",
              " ('Basildon', 518),\n",
              " ('Worthing', 519),\n",
              " ('Chelmsford', 520),\n",
              " ('Colchester', 521),\n",
              " ('Crawley', 522),\n",
              " ('Gillingham', 523),\n",
              " ('Solihull', 524),\n",
              " ('Rochdale', 525),\n",
              " ('Birkenhead', 526),\n",
              " ('Worcester', 527),\n",
              " ('Hartlepool', 528),\n",
              " ('Halifax', 529),\n",
              " ('Woking/Byfleet', 530),\n",
              " ('Southport', 531),\n",
              " ('Maidstone', 532),\n",
              " ('Eastbourne', 533),\n",
              " ('Grimsby', 534),\n",
              " ('Saint Helier', 535),\n",
              " ('Douglas', 536),\n",
              " ('Road Town', 537),\n",
              " ('Bandar Seri Begawan', 538),\n",
              " ('Sofija', 539),\n",
              " ('Plovdiv', 540),\n",
              " ('Varna', 541),\n",
              " ('Burgas', 542),\n",
              " ('Ruse', 543),\n",
              " ('Stara Zagora', 544),\n",
              " ('Pleven', 545),\n",
              " ('Sliven', 546),\n",
              " ('Dobric', 547),\n",
              " ('ÂŠumen', 548),\n",
              " ('Ouagadougou', 549),\n",
              " ('Bobo-Dioulasso', 550),\n",
              " ('Koudougou', 551),\n",
              " ('Bujumbura', 552),\n",
              " ('George Town', 553),\n",
              " ('Santiago de Chile', 554),\n",
              " ('Puente Alto', 555),\n",
              " ('ViÃ±a del Mar', 556),\n",
              " ('ValparaÃ\\xadso', 557),\n",
              " ('Talcahuano', 558),\n",
              " ('Antofagasta', 559),\n",
              " ('San Bernardo', 560),\n",
              " ('Temuco', 561),\n",
              " ('ConcepciÃ³n', 562),\n",
              " ('Rancagua', 563),\n",
              " ('Arica', 564),\n",
              " ('Talca', 565),\n",
              " ('ChillÃ¡n', 566),\n",
              " ('Iquique', 567),\n",
              " ('Los Angeles', 568),\n",
              " ('Puerto Montt', 569),\n",
              " ('Coquimbo', 570),\n",
              " ('Osorno', 571),\n",
              " ('La Serena', 572),\n",
              " ('Calama', 573),\n",
              " ('Valdivia', 574),\n",
              " ('Punta Arenas', 575),\n",
              " ('CopiapÃ³', 576),\n",
              " ('QuilpuÃ©', 577),\n",
              " ('CuricÃ³', 578),\n",
              " ('Ovalle', 579),\n",
              " ('Coronel', 580),\n",
              " ('San Pedro de la Paz', 581),\n",
              " ('Melipilla', 582),\n",
              " ('Avarua', 583),\n",
              " ('San JosÃ©', 584),\n",
              " ('Djibouti', 585),\n",
              " ('Roseau', 586),\n",
              " ('Santo Domingo de GuzmÃ¡n', 587),\n",
              " ('Santiago de los Caballeros', 588),\n",
              " ('La Romana', 589),\n",
              " ('San Pedro de MacorÃ\\xads', 590),\n",
              " ('San Francisco de MacorÃ\\xads', 591),\n",
              " ('San Felipe de Puerto Plata', 592),\n",
              " ('Guayaquil', 593),\n",
              " ('Quito', 594),\n",
              " ('Cuenca', 595),\n",
              " ('Machala', 596),\n",
              " ('Santo Domingo de los Colorados', 597),\n",
              " ('Portoviejo', 598),\n",
              " ('Ambato', 599),\n",
              " ('Manta', 600),\n",
              " ('Duran [Eloy Alfaro]', 601),\n",
              " ('Ibarra', 602),\n",
              " ('Quevedo', 603),\n",
              " ('Milagro', 604),\n",
              " ('Loja', 605),\n",
              " ('RÃ\\xadobamba', 606),\n",
              " ('Esmeraldas', 607),\n",
              " ('Cairo', 608),\n",
              " ('Alexandria', 609),\n",
              " ('Giza', 610),\n",
              " ('Shubra al-Khayma', 611),\n",
              " ('Port Said', 612),\n",
              " ('Suez', 613),\n",
              " ('al-Mahallat al-Kubra', 614),\n",
              " ('Tanta', 615),\n",
              " ('al-Mansura', 616),\n",
              " ('Luxor', 617),\n",
              " ('Asyut', 618),\n",
              " ('Bahtim', 619),\n",
              " ('Zagazig', 620),\n",
              " ('al-Faiyum', 621),\n",
              " ('Ismailia', 622),\n",
              " ('Kafr al-Dawwar', 623),\n",
              " ('Assuan', 624),\n",
              " ('Damanhur', 625),\n",
              " ('al-Minya', 626),\n",
              " ('Bani Suwayf', 627),\n",
              " ('Qina', 628),\n",
              " ('Sawhaj', 629),\n",
              " ('Shibin al-Kawm', 630),\n",
              " ('Bulaq al-Dakrur', 631),\n",
              " ('Banha', 632),\n",
              " ('Warraq al-Arab', 633),\n",
              " ('Kafr al-Shaykh', 634),\n",
              " ('Mallawi', 635),\n",
              " ('Bilbays', 636),\n",
              " ('Mit Ghamr', 637),\n",
              " ('al-Arish', 638),\n",
              " ('Talkha', 639),\n",
              " ('Qalyub', 640),\n",
              " ('Jirja', 641),\n",
              " ('Idfu', 642),\n",
              " ('al-Hawamidiya', 643),\n",
              " ('Disuq', 644),\n",
              " ('San Salvador', 645),\n",
              " ('Santa Ana', 646),\n",
              " ('Mejicanos', 647),\n",
              " ('Soyapango', 648),\n",
              " ('San Miguel', 649),\n",
              " ('Nueva San Salvador', 650),\n",
              " ('Apopa', 651),\n",
              " ('Asmara', 652),\n",
              " ('Madrid', 653),\n",
              " ('Barcelona', 654),\n",
              " ('Valencia', 655),\n",
              " ('Sevilla', 656),\n",
              " ('Zaragoza', 657),\n",
              " ('MÃ¡laga', 658),\n",
              " ('Bilbao', 659),\n",
              " ('Las Palmas de Gran Canaria', 660),\n",
              " ('Murcia', 661),\n",
              " ('Palma de Mallorca', 662),\n",
              " ('Valladolid', 663),\n",
              " ('CÃ³rdoba', 664),\n",
              " ('Vigo', 665),\n",
              " ('Alicante [Alacant]', 666),\n",
              " ('GijÃ³n', 667),\n",
              " ('LÂ´Hospitalet de Llobregat', 668),\n",
              " ('Granada', 669),\n",
              " ('A CoruÃ±a (La CoruÃ±a)', 670),\n",
              " ('Vitoria-Gasteiz', 671),\n",
              " ('Santa Cruz de Tenerife', 672),\n",
              " ('Badalona', 673),\n",
              " ('Oviedo', 674),\n",
              " ('MÃ³stoles', 675),\n",
              " ('Elche [Elx]', 676),\n",
              " ('Sabadell', 677),\n",
              " ('Santander', 678),\n",
              " ('Jerez de la Frontera', 679),\n",
              " ('Pamplona [IruÃ±a]', 680),\n",
              " ('Donostia-San SebastiÃ¡n', 681),\n",
              " ('Cartagena', 682),\n",
              " ('LeganÃ©s', 683),\n",
              " ('Fuenlabrada', 684),\n",
              " ('AlmerÃ\\xada', 685),\n",
              " ('Terrassa', 686),\n",
              " ('AlcalÃ¡ de Henares', 687),\n",
              " ('Burgos', 688),\n",
              " ('Salamanca', 689),\n",
              " ('Albacete', 690),\n",
              " ('Getafe', 691),\n",
              " ('CÃ¡diz', 692),\n",
              " ('AlcorcÃ³n', 693),\n",
              " ('Huelva', 694),\n",
              " ('LeÃ³n', 695),\n",
              " ('CastellÃ³n de la Plana [Castell', 696),\n",
              " ('Badajoz', 697),\n",
              " ('[San CristÃ³bal de] la Laguna', 698),\n",
              " ('LogroÃ±o', 699),\n",
              " ('Santa Coloma de Gramenet', 700),\n",
              " ('Tarragona', 701),\n",
              " ('Lleida (LÃ©rida)', 702),\n",
              " ('JaÃ©n', 703),\n",
              " ('Ourense (Orense)', 704),\n",
              " ('MatarÃ³', 705),\n",
              " ('Algeciras', 706),\n",
              " ('Marbella', 707),\n",
              " ('Barakaldo', 708),\n",
              " ('Dos Hermanas', 709),\n",
              " ('Santiago de Compostela', 710),\n",
              " ('TorrejÃ³n de Ardoz', 711),\n",
              " ('Cape Town', 712),\n",
              " ('Soweto', 713),\n",
              " ('Johannesburg', 714),\n",
              " ('Port Elizabeth', 715),\n",
              " ('Pretoria', 716),\n",
              " ('Inanda', 717),\n",
              " ('Durban', 718),\n",
              " ('Vanderbijlpark', 719),\n",
              " ('Kempton Park', 720),\n",
              " ('Alberton', 721),\n",
              " ('Pinetown', 722),\n",
              " ('Pietermaritzburg', 723),\n",
              " ('Benoni', 724),\n",
              " ('Randburg', 725),\n",
              " ('Umlazi', 726),\n",
              " ('Bloemfontein', 727),\n",
              " ('Vereeniging', 728),\n",
              " ('Wonderboom', 729),\n",
              " ('Roodepoort', 730),\n",
              " ('Boksburg', 731),\n",
              " ('Klerksdorp', 732),\n",
              " ('Soshanguve', 733),\n",
              " ('Newcastle', 734),\n",
              " ('East London', 735),\n",
              " ('Welkom', 736),\n",
              " ('Kimberley', 737),\n",
              " ('Uitenhage', 738),\n",
              " ('Chatsworth', 739),\n",
              " ('Mdantsane', 740),\n",
              " ('Krugersdorp', 741),\n",
              " ('Botshabelo', 742),\n",
              " ('Brakpan', 743),\n",
              " ('Witbank', 744),\n",
              " ('Oberholzer', 745),\n",
              " ('Germiston', 746),\n",
              " ('Springs', 747),\n",
              " ('Westonaria', 748),\n",
              " ('Randfontein', 749),\n",
              " ('Paarl', 750),\n",
              " ('Potchefstroom', 751),\n",
              " ('Rustenburg', 752),\n",
              " ('Nigel', 753),\n",
              " ('George', 754),\n",
              " ('Ladysmith', 755),\n",
              " ('Addis Abeba', 756),\n",
              " ('Dire Dawa', 757),\n",
              " ('Nazret', 758),\n",
              " ('Gonder', 759),\n",
              " ('Dese', 760),\n",
              " ('Mekele', 761),\n",
              " ('Bahir Dar', 762),\n",
              " ('Stanley', 763),\n",
              " ('Suva', 764),\n",
              " ('Quezon', 765),\n",
              " ('Manila', 766),\n",
              " ('Kalookan', 767),\n",
              " ('Davao', 768),\n",
              " ('Cebu', 769),\n",
              " ('Zamboanga', 770),\n",
              " ('Pasig', 771),\n",
              " ('Valenzuela', 772),\n",
              " ('Las PiÃ±as', 773),\n",
              " ('Antipolo', 774),\n",
              " ('Taguig', 775),\n",
              " ('Cagayan de Oro', 776),\n",
              " ('ParaÃ±aque', 777),\n",
              " ('Makati', 778),\n",
              " ('Bacolod', 779),\n",
              " ('General Santos', 780),\n",
              " ('Marikina', 781),\n",
              " ('DasmariÃ±as', 782),\n",
              " ('Muntinlupa', 783),\n",
              " ('Iloilo', 784),\n",
              " ('Pasay', 785),\n",
              " ('Malabon', 786),\n",
              " ('San JosÃ© del Monte', 787),\n",
              " ('Bacoor', 788),\n",
              " ('Iligan', 789),\n",
              " ('Calamba', 790),\n",
              " ('Mandaluyong', 791),\n",
              " ('Butuan', 792),\n",
              " ('Angeles', 793),\n",
              " ('Tarlac', 794),\n",
              " ('Mandaue', 795),\n",
              " ('Baguio', 796),\n",
              " ('Batangas', 797),\n",
              " ('Cainta', 798),\n",
              " ('San Pedro', 799),\n",
              " ('Navotas', 800),\n",
              " ('Cabanatuan', 801),\n",
              " ('San Fernando', 802),\n",
              " ('Lipa', 803),\n",
              " ('Lapu-Lapu', 804),\n",
              " ('San Pablo', 805),\n",
              " ('BiÃ±an', 806),\n",
              " ('Taytay', 807),\n",
              " ('Lucena', 808),\n",
              " ('Imus', 809),\n",
              " ('Olongapo', 810),\n",
              " ('Binangonan', 811),\n",
              " ('Santa Rosa', 812),\n",
              " ('Tagum', 813),\n",
              " ('Tacloban', 814),\n",
              " ('Malolos', 815),\n",
              " ('Mabalacat', 816),\n",
              " ('Cotabato', 817),\n",
              " ('Meycauayan', 818),\n",
              " ('Puerto Princesa', 819),\n",
              " ('Legazpi', 820),\n",
              " ('Silang', 821),\n",
              " ('Ormoc', 822),\n",
              " ('San Carlos', 823),\n",
              " ('Kabankalan', 824),\n",
              " ('Talisay', 825),\n",
              " ('Valencia', 826),\n",
              " ('Calbayog', 827),\n",
              " ('Santa Maria', 828),\n",
              " ('Pagadian', 829),\n",
              " ('Cadiz', 830),\n",
              " ('Bago', 831),\n",
              " ('Toledo', 832),\n",
              " ('Naga', 833),\n",
              " ('San Mateo', 834),\n",
              " ('Panabo', 835),\n",
              " ('Koronadal', 836),\n",
              " ('Marawi', 837),\n",
              " ('Dagupan', 838),\n",
              " ('Sagay', 839),\n",
              " ('Roxas', 840),\n",
              " ('Lubao', 841),\n",
              " ('Digos', 842),\n",
              " ('San Miguel', 843),\n",
              " ('Malaybalay', 844),\n",
              " ('Tuguegarao', 845),\n",
              " ('Ilagan', 846),\n",
              " ('Baliuag', 847),\n",
              " ('Surigao', 848),\n",
              " ('San Carlos', 849),\n",
              " ('San Juan del Monte', 850),\n",
              " ('Tanauan', 851),\n",
              " ('Concepcion', 852),\n",
              " ('Rodriguez (Montalban)', 853),\n",
              " ('Sariaya', 854),\n",
              " ('Malasiqui', 855),\n",
              " ('General Mariano Alvarez', 856),\n",
              " ('Urdaneta', 857),\n",
              " ('Hagonoy', 858),\n",
              " ('San Jose', 859),\n",
              " ('Polomolok', 860),\n",
              " ('Santiago', 861),\n",
              " ('Tanza', 862),\n",
              " ('Ozamis', 863),\n",
              " ('Mexico', 864),\n",
              " ('San Jose', 865),\n",
              " ('Silay', 866),\n",
              " ('General Trias', 867),\n",
              " ('Tabaco', 868),\n",
              " ('Cabuyao', 869),\n",
              " ('Calapan', 870),\n",
              " ('Mati', 871),\n",
              " ('Midsayap', 872),\n",
              " ('Cauayan', 873),\n",
              " ('Gingoog', 874),\n",
              " ('Dumaguete', 875),\n",
              " ('San Fernando', 876),\n",
              " ('Arayat', 877),\n",
              " ('Bayawan (Tulong)', 878),\n",
              " ('Kidapawan', 879),\n",
              " ('Daraga (Locsin)', 880),\n",
              " ('Marilao', 881),\n",
              " ('Malita', 882),\n",
              " ('Dipolog', 883),\n",
              " ('Cavite', 884),\n",
              " ('Danao', 885),\n",
              " ('Bislig', 886),\n",
              " ('Talavera', 887),\n",
              " ('Guagua', 888),\n",
              " ('Bayambang', 889),\n",
              " ('Nasugbu', 890),\n",
              " ('Baybay', 891),\n",
              " ('Capas', 892),\n",
              " ('Sultan Kudarat', 893),\n",
              " ('Laoag', 894),\n",
              " ('Bayugan', 895),\n",
              " ('Malungon', 896),\n",
              " ('Santa Cruz', 897),\n",
              " ('Sorsogon', 898),\n",
              " ('Candelaria', 899),\n",
              " ('Ligao', 900),\n",
              " ('TÃ³rshavn', 901),\n",
              " ('Libreville', 902),\n",
              " ('Serekunda', 903),\n",
              " ('Banjul', 904),\n",
              " ('Tbilisi', 905),\n",
              " ('Kutaisi', 906),\n",
              " ('Rustavi', 907),\n",
              " ('Batumi', 908),\n",
              " ('Sohumi', 909),\n",
              " ('Accra', 910),\n",
              " ('Kumasi', 911),\n",
              " ('Tamale', 912),\n",
              " ('Tema', 913),\n",
              " ('Sekondi-Takoradi', 914),\n",
              " ('Gibraltar', 915),\n",
              " ('Saint GeorgeÂ´s', 916),\n",
              " ('Nuuk', 917),\n",
              " ('Les Abymes', 918),\n",
              " ('Basse-Terre', 919),\n",
              " ('Tamuning', 920),\n",
              " ('AgaÃ±a', 921),\n",
              " ('Ciudad de Guatemala', 922),\n",
              " ('Mixco', 923),\n",
              " ('Villa Nueva', 924),\n",
              " ('Quetzaltenango', 925),\n",
              " ('Conakry', 926),\n",
              " ('Bissau', 927),\n",
              " ('Georgetown', 928),\n",
              " ('Port-au-Prince', 929),\n",
              " ('Carrefour', 930),\n",
              " ('Delmas', 931),\n",
              " ('Le-Cap-HaÃ¯tien', 932),\n",
              " ('Tegucigalpa', 933),\n",
              " ('San Pedro Sula', 934),\n",
              " ('La Ceiba', 935),\n",
              " ('Kowloon and New Kowloon', 936),\n",
              " ('Victoria', 937),\n",
              " ('Longyearbyen', 938),\n",
              " ('Jakarta', 939),\n",
              " ('Surabaya', 940),\n",
              " ('Bandung', 941),\n",
              " ('Medan', 942),\n",
              " ('Palembang', 943),\n",
              " ('Tangerang', 944),\n",
              " ('Semarang', 945),\n",
              " ('Ujung Pandang', 946),\n",
              " ('Malang', 947),\n",
              " ('Bandar Lampung', 948),\n",
              " ('Bekasi', 949),\n",
              " ('Padang', 950),\n",
              " ('Surakarta', 951),\n",
              " ('Banjarmasin', 952),\n",
              " ('Pekan Baru', 953),\n",
              " ('Denpasar', 954),\n",
              " ('Yogyakarta', 955),\n",
              " ('Pontianak', 956),\n",
              " ('Samarinda', 957),\n",
              " ('Jambi', 958),\n",
              " ('Depok', 959),\n",
              " ('Cimahi', 960),\n",
              " ('Balikpapan', 961),\n",
              " ('Manado', 962),\n",
              " ('Mataram', 963),\n",
              " ('Pekalongan', 964),\n",
              " ('Tegal', 965),\n",
              " ('Bogor', 966),\n",
              " ('Ciputat', 967),\n",
              " ('Pondokgede', 968),\n",
              " ('Cirebon', 969),\n",
              " ('Kediri', 970),\n",
              " ('Ambon', 971),\n",
              " ('Jember', 972),\n",
              " ('Cilacap', 973),\n",
              " ('Cimanggis', 974),\n",
              " ('Pematang Siantar', 975),\n",
              " ('Purwokerto', 976),\n",
              " ('Ciomas', 977),\n",
              " ('Tasikmalaya', 978),\n",
              " ('Madiun', 979),\n",
              " ('Bengkulu', 980),\n",
              " ('Karawang', 981),\n",
              " ('Banda Aceh', 982),\n",
              " ('Palu', 983),\n",
              " ('Pasuruan', 984),\n",
              " ('Kupang', 985),\n",
              " ('Tebing Tinggi', 986),\n",
              " ('Percut Sei Tuan', 987),\n",
              " ('Binjai', 988),\n",
              " ('Sukabumi', 989),\n",
              " ('Waru', 990),\n",
              " ('Pangkal Pinang', 991),\n",
              " ('Magelang', 992),\n",
              " ('Blitar', 993),\n",
              " ('Serang', 994),\n",
              " ('Probolinggo', 995),\n",
              " ('Cilegon', 996),\n",
              " ('Cianjur', 997),\n",
              " ('Ciparay', 998),\n",
              " ('Lhokseumawe', 999),\n",
              " ('Taman', 1000),\n",
              " ...]"
            ]
          },
          "metadata": {
            "tags": []
          },
          "execution_count": 42
        }
      ]
    },
    {
      "cell_type": "code",
      "metadata": {
        "colab": {
          "base_uri": "https://localhost:8080/",
          "height": 0
        },
        "id": "Rx-j50c1WFVj",
        "outputId": "4f10654c-eeb7-4495-949e-1c48a9527b3f"
      },
      "source": [
        "#type(b)"
      ],
      "execution_count": 36,
      "outputs": [
        {
          "output_type": "execute_result",
          "data": {
            "text/plain": [
              "pyspark.rdd.PipelinedRDD"
            ]
          },
          "metadata": {
            "tags": []
          },
          "execution_count": 36
        }
      ]
    },
    {
      "cell_type": "code",
      "metadata": {
        "id": "J2-CMFn7_KAF"
      },
      "source": [
        "new_rdd = a.join(b)\n",
        "rdd_query_b_answer = new_rdd.map(lambda x: (x[0],x[1][0])).collect()"
      ],
      "execution_count": 48,
      "outputs": []
    },
    {
      "cell_type": "code",
      "metadata": {
        "colab": {
          "base_uri": "https://localhost:8080/",
          "height": 0
        },
        "id": "l9mqfeZ1_nyp",
        "outputId": "72e4f130-8850-40e3-abb9-b6731535759f"
      },
      "source": [
        "print(rdd_query_b_answer)"
      ],
      "execution_count": 49,
      "outputs": [
        {
          "output_type": "stream",
          "text": [
            "[('Gibraltar', 915), ('Kuwait', 2429), ('Mexico', 2515), ('Armenia', 126), ('Djibouti', 585), ('Macao', 2454), ('Singapore', 3208), ('San Marino', 3171)]\n"
          ],
          "name": "stdout"
        }
      ]
    },
    {
      "cell_type": "code",
      "metadata": {
        "id": "EzJGfVQyXxsV"
      },
      "source": [
        ""
      ],
      "execution_count": null,
      "outputs": []
    }
  ]
}